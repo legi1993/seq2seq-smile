{
  "nbformat": 4,
  "nbformat_minor": 0,
  "metadata": {
    "colab": {
      "name": "smile_data.ipynb",
      "provenance": [],
      "collapsed_sections": []
    },
    "kernelspec": {
      "name": "python3",
      "display_name": "Python 3"
    }
  },
  "cells": [
    {
      "cell_type": "markdown",
      "metadata": {
        "id": "47waLzH7see-",
        "colab_type": "text"
      },
      "source": [
        "# SMILE 데이터 얻는 방법 \n",
        "\n",
        "\n",
        "\n",
        "\n"
      ]
    },
    {
      "cell_type": "code",
      "metadata": {
        "id": "RExSTbcbte1W",
        "colab_type": "code",
        "colab": {}
      },
      "source": [
        ""
      ],
      "execution_count": 0,
      "outputs": []
    },
    {
      "cell_type": "markdown",
      "metadata": {
        "id": "6xtlzzdJtfUE",
        "colab_type": "text"
      },
      "source": [
        "## 1. ZINC\n",
        "\n",
        "\n",
        "*   http://zinc15.docking.org/\n",
        "*   ![대체 텍스트](https://github.com/legi1993/seq2seq-smile/blob/master/zinc-1.png?raw=true)\n",
        "*   ![대체 텍스트](https://github.com/legi1993/seq2seq-smile/blob/master/zinc-2.png?raw=true)\n",
        "*   ![대체 텍스트](https://github.com/legi1993/seq2seq-smile/blob/master/zinc-3.png?raw=truettps://)\n",
        "*   ![대체 텍스트](https://github.com/legi1993/seq2seq-smile/blob/master/zinc-4.png?raw=true)"
      ]
    },
    {
      "cell_type": "markdown",
      "metadata": {
        "id": "3i_89OS-zsEM",
        "colab_type": "text"
      },
      "source": [
        "## 2. CHeMBL\n",
        "\n",
        "\n",
        "\n",
        "*   https://www.ebi.ac.uk/chembl/\n",
        "*   ![대체 텍스트](https://github.com/legi1993/seq2seq-smile/blob/master/chembl-1.png?raw=true)\n",
        "*   ![대체 텍스트](https://github.com/legi1993/seq2seq-smile/blob/master/chembl-2.png?raw=true)\n",
        "\n"
      ]
    },
    {
      "cell_type": "code",
      "metadata": {
        "id": "hE0wsOcnzn3w",
        "colab_type": "code",
        "colab": {}
      },
      "source": [
        ""
      ],
      "execution_count": 0,
      "outputs": []
    }
  ]
}